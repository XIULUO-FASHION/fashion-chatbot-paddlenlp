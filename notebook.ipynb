{
 "cells": [
  {
   "cell_type": "markdown",
   "source": [
    "# 使用PaddleNLP搭建时尚对话系统"
   ],
   "metadata": {}
  },
  {
   "cell_type": "markdown",
   "source": [
    "* 基于rasa 2\n",
    "* 使用PaddleNLP搭建时尚对话系统\n",
    "\n",
    "* [github源码地址](https://github.com/XIULUO-FASHION/fashion-chatbot-paddlenlp)"
   ],
   "metadata": {}
  },
  {
   "cell_type": "markdown",
   "source": [
    "## 主要功能\n",
    "* 通过对话获取客户服装设计的需求\n",
    "* 通过对话获取客户风格的需求\n",
    "* 下游接风格与服装的跨模态检索模块\n",
    "* [使用PaddleCLIP, Milvus搭建跨模态时尚搜索引擎](https://aistudio.baidu.com/aistudio/projectdetail/2299929?contributionType=1&shared=1)\n",
    "* [使用PaddleCLIP搭建跨模态时尚搜索引擎](https://aistudio.baidu.com/aistudio/projectdetail/2317276 )\n",
    "\n",
    "\n",
    "## 数据\n",
    "* [Chatito](https://rodrigopivi.github.io/Chatito/) 生成\n",
    "\n",
    "## 环境版本\n",
    "* python==3.8\n",
    "* rasa==2.8.4\n",
    "* paddlepaddle==2.0.2\n",
    "* paddlenlp==2.0.0rc20\n",
    "* markdownify==0.9.2\n",
    "* PyExecJS==1.5.1\n",
    "* numpy==1.18.5\n",
    "* pandas==1.3.1\n",
    "\n",
    "## 训练\n",
    "```\n",
    "rasa train -c config.yml --data data/training_dataset_1631021066.json data/stories.md --out models/ --domain domain.yml --num-threads 10 --augmentation 100 -vv\n",
    "```\n",
    "\n",
    "## 开启服务\n",
    "```\n",
    "rasa run actions --actions actions.actions --cors \"*\"\n",
    "rasa shell -m models/20210908-014337.tar.gz --endpoints endpoints.yml\n",
    "```\n",
    "\n",
    "## 效果\n",
    "![](https://raw.githubusercontent.com/XIULUO-FASHION/fashion-chatbot-paddlenlp/main/img/fashion_chatbot_rasa_paddle_performance.png)\n",
    "\n",
    "## 项目参考\n",
    "* [appointment-bot](https://github.com/lhr0909/appointment-bot)\n",
    "* https://aistudio.baidu.com/aistudio/projectdetail/1899120\n",
    "* [Translator](https://github.com/neverneverendup/Translator)"
   ],
   "metadata": {}
  }
 ],
 "metadata": {
  "orig_nbformat": 4,
  "language_info": {
   "name": "python",
   "version": "3.8",
   "mimetype": "text/x-python",
   "codemirror_mode": {
    "name": "ipython",
    "version": 3
   },
   "pygments_lexer": "ipython3",
   "nbconvert_exporter": "python",
   "file_extension": ".py"
  },
  "kernelspec": {
   "name": "python3",
   "display_name": "Python 3.8  ('rasa-paddle': conda)"
  },
  "interpreter": {
   "hash": "30cba145701eb387c3430b8e8a8829da683202a662086580f6f0cdb3fda10478"
  }
 },
 "nbformat": 4,
 "nbformat_minor": 2
}