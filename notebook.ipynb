{
 "cells": [
  {
   "cell_type": "markdown",
   "source": [
    "# 使用PaddleNLP搭建时尚对话系统"
   ],
   "metadata": {}
  },
  {
   "cell_type": "markdown",
   "source": [
    "* 基于rasa 2\r\n",
    "* 使用PaddleNLP搭建时尚对话系统\r\n",
    "\r\n",
    "* [github源码地址](https://github.com/XIULUO-FASHION/fashion-chatbot-paddlenlp)"
   ],
   "metadata": {}
  },
  {
   "cell_type": "markdown",
   "source": [
    "### 主要功能\r\n",
    "* 通过对话获取客户服装设计的需求\r\n",
    "* 通过对话获取客户风格的需求\r\n",
    "* 下游接风格与服装的跨模态检索模块\r\n",
    "* [使用PaddleCLIP, Milvus搭建跨模态时尚搜索引擎](https://aistudio.baidu.com/aistudio/projectdetail/2299929?contributionType=1&shared=1)\r\n",
    "* [使用PaddleCLIP搭建跨模态时尚搜索引擎](https://aistudio.baidu.com/aistudio/projectdetail/2317276 )\r\n",
    "\r\n",
    "\r\n",
    "### 数据\r\n",
    "* [Chatito](https://rodrigopivi.github.io/Chatito/) 生成\r\n",
    "\r\n",
    "### 环境版本\r\n",
    "* python==3.8\r\n",
    "* rasa==2.8.4\r\n",
    "* paddlepaddle==2.0.2\r\n",
    "* paddlenlp==2.0.0rc20\r\n",
    "* markdownify==0.9.2\r\n",
    "* PyExecJS==1.5.1\r\n",
    "* numpy==1.18.5\r\n",
    "* pandas==1.3.1\r\n",
    "\r\n",
    "### 训练\r\n",
    "```\r\n",
    "rasa train -c config.yml --data data/training_dataset_1631021066.json data/stories.md --out models/ --domain domain.yml --num-threads 10 --augmentation 100 -vv\r\n",
    "```\r\n",
    "\r\n",
    "### 开启服务\r\n",
    "```\r\n",
    "rasa run actions --actions actions.actions --cors \"*\"\r\n",
    "rasa shell -m models/20210908-014337.tar.gz --endpoints endpoints.yml\r\n",
    "```\r\n",
    "\r\n",
    "### 效果\r\n",
    "![](https://raw.githubusercontent.com/XIULUO-FASHION/fashion-chatbot-paddlenlp/main/img/fashion_chatbot_rasa_paddle_performance.png)\r\n",
    "\r\n",
    "### 项目参考\r\n",
    "* [appointment-bot](https://github.com/lhr0909/appointment-bot)\r\n",
    "* https://aistudio.baidu.com/aistudio/projectdetail/1899120\r\n"
   ],
   "metadata": {}
  }
 ],
 "metadata": {
  "orig_nbformat": 4,
  "language_info": {
   "name": "python",
   "version": "3.8.11",
   "mimetype": "text/x-python",
   "codemirror_mode": {
    "name": "ipython",
    "version": 3
   },
   "pygments_lexer": "ipython3",
   "nbconvert_exporter": "python",
   "file_extension": ".py"
  },
  "kernelspec": {
   "name": "python3",
   "display_name": "Python 3.8.11 64-bit ('rasa-paddle': conda)"
  },
  "interpreter": {
   "hash": "30cba145701eb387c3430b8e8a8829da683202a662086580f6f0cdb3fda10478"
  }
 },
 "nbformat": 4,
 "nbformat_minor": 2
}